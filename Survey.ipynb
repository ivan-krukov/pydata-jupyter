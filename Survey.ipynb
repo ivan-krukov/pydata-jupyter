{
 "cells": [
  {
   "cell_type": "code",
   "execution_count": 54,
   "metadata": {
    "collapsed": false
   },
   "outputs": [],
   "source": [
    "# Pandas for DataFrames\n",
    "import pandas as pd \n",
    "\n",
    "# Matplotlib for style settings\n",
    "import matplotlib   \n",
    "\n",
    "# Show plots in-place\n",
    "%matplotlib inline"
   ]
  },
  {
   "cell_type": "code",
   "execution_count": 55,
   "metadata": {
    "collapsed": false
   },
   "outputs": [
    {
     "data": {
      "text/plain": [
       "['fivethirtyeight',\n",
       " 'seaborn-poster',\n",
       " 'seaborn-paper',\n",
       " 'seaborn-talk',\n",
       " 'seaborn-dark',\n",
       " 'bmh',\n",
       " 'seaborn-ticks',\n",
       " 'ggplot',\n",
       " 'seaborn-bright',\n",
       " 'seaborn-whitegrid',\n",
       " 'seaborn-darkgrid',\n",
       " 'seaborn-white',\n",
       " 'seaborn-dark-palette',\n",
       " 'seaborn-colorblind',\n",
       " 'seaborn-muted',\n",
       " 'classic',\n",
       " 'seaborn-notebook',\n",
       " 'grayscale',\n",
       " 'dark_background',\n",
       " 'seaborn-pastel',\n",
       " 'seaborn-deep']"
      ]
     },
     "execution_count": 55,
     "metadata": {},
     "output_type": "execute_result"
    }
   ],
   "source": [
    "# Check available styles\n",
    "matplotlib.style.available"
   ]
  },
  {
   "cell_type": "code",
   "execution_count": 56,
   "metadata": {
    "collapsed": true
   },
   "outputs": [],
   "source": [
    "# Use an attractive default\n",
    "matplotlib.style.use('ggplot')"
   ]
  },
  {
   "cell_type": "code",
   "execution_count": 57,
   "metadata": {
    "collapsed": false
   },
   "outputs": [
    {
     "name": "stdout",
     "output_type": "stream",
     "text": [
      "affiliation.csv interests.csv   python_time.csv\r\n",
      "industry.csv    packages.csv    python_use.csv\r\n"
     ]
    }
   ],
   "source": [
    "# Shell line magic for quick inspection\n",
    "!ls data"
   ]
  },
  {
   "cell_type": "code",
   "execution_count": 63,
   "metadata": {
    "collapsed": true
   },
   "outputs": [],
   "source": [
    "# Read the data from CSV with pandas\n",
    "interests = pd.read_csv(\"data/interests.csv\")"
   ]
  },
  {
   "cell_type": "code",
   "execution_count": 64,
   "metadata": {
    "collapsed": false
   },
   "outputs": [
    {
     "data": {
      "text/html": [
       "<div>\n",
       "<table border=\"1\" class=\"dataframe\">\n",
       "  <thead>\n",
       "    <tr style=\"text-align: right;\">\n",
       "      <th></th>\n",
       "      <th>Category</th>\n",
       "      <th>Votes</th>\n",
       "    </tr>\n",
       "  </thead>\n",
       "  <tbody>\n",
       "    <tr>\n",
       "      <th>0</th>\n",
       "      <td>Big Data</td>\n",
       "      <td>25</td>\n",
       "    </tr>\n",
       "    <tr>\n",
       "      <th>1</th>\n",
       "      <td>Data Visualization</td>\n",
       "      <td>29</td>\n",
       "    </tr>\n",
       "    <tr>\n",
       "      <th>2</th>\n",
       "      <td>Machine Learning</td>\n",
       "      <td>23</td>\n",
       "    </tr>\n",
       "    <tr>\n",
       "      <th>3</th>\n",
       "      <td>Statistics</td>\n",
       "      <td>22</td>\n",
       "    </tr>\n",
       "    <tr>\n",
       "      <th>4</th>\n",
       "      <td>Version Control</td>\n",
       "      <td>7</td>\n",
       "    </tr>\n",
       "  </tbody>\n",
       "</table>\n",
       "</div>"
      ],
      "text/plain": [
       "             Category  Votes\n",
       "0            Big Data     25\n",
       "1  Data Visualization     29\n",
       "2    Machine Learning     23\n",
       "3          Statistics     22\n",
       "4     Version Control      7"
      ]
     },
     "execution_count": 64,
     "metadata": {},
     "output_type": "execute_result"
    }
   ],
   "source": [
    "# Get the first five entries\n",
    "interests.head()"
   ]
  },
  {
   "cell_type": "code",
   "execution_count": 65,
   "metadata": {
    "collapsed": false
   },
   "outputs": [],
   "source": [
    "# Pandas transforming functions have `inplace`\n",
    "# Set \"Category\" as the index - row name equivalent\n",
    "interests.set_index(\"Category\", inplace=True)"
   ]
  },
  {
   "cell_type": "code",
   "execution_count": 76,
   "metadata": {
    "collapsed": false
   },
   "outputs": [
    {
     "data": {
      "text/plain": [
       "Category\n",
       "Cloud Computing                 1\n",
       "Databases                       1\n",
       "Internet of Things              1\n",
       "Parallel                        1\n",
       "Version Control                 7\n",
       "Web Scraping                   12\n",
       "Data Cleaning                  17\n",
       "Natural Language Processing    18\n",
       "Statistics                     22\n",
       "Machine Learning               23\n",
       "Big Data                       25\n",
       "Data Visualization             29\n",
       "Name: Votes, dtype: int64"
      ]
     },
     "execution_count": 76,
     "metadata": {},
     "output_type": "execute_result"
    }
   ],
   "source": [
    "interests.Votes"
   ]
  },
  {
   "cell_type": "code",
   "execution_count": 77,
   "metadata": {
    "collapsed": false
   },
   "outputs": [
    {
     "data": {
      "text/plain": [
       "Index(['Cloud Computing', 'Databases', 'Internet of Things', 'Parallel',\n",
       "       'Version Control', 'Web Scraping', 'Data Cleaning',\n",
       "       'Natural Language Processing', 'Statistics', 'Machine Learning',\n",
       "       'Big Data', 'Data Visualization'],\n",
       "      dtype='object', name='Category')"
      ]
     },
     "execution_count": 77,
     "metadata": {},
     "output_type": "execute_result"
    }
   ],
   "source": [
    "interests.index"
   ]
  },
  {
   "cell_type": "code",
   "execution_count": 67,
   "metadata": {
    "collapsed": false
   },
   "outputs": [
    {
     "data": {
      "text/html": [
       "<div>\n",
       "<table border=\"1\" class=\"dataframe\">\n",
       "  <thead>\n",
       "    <tr style=\"text-align: right;\">\n",
       "      <th></th>\n",
       "      <th>Votes</th>\n",
       "    </tr>\n",
       "    <tr>\n",
       "      <th>Category</th>\n",
       "      <th></th>\n",
       "    </tr>\n",
       "  </thead>\n",
       "  <tbody>\n",
       "    <tr>\n",
       "      <th>Big Data</th>\n",
       "      <td>25</td>\n",
       "    </tr>\n",
       "    <tr>\n",
       "      <th>Data Visualization</th>\n",
       "      <td>29</td>\n",
       "    </tr>\n",
       "    <tr>\n",
       "      <th>Machine Learning</th>\n",
       "      <td>23</td>\n",
       "    </tr>\n",
       "    <tr>\n",
       "      <th>Statistics</th>\n",
       "      <td>22</td>\n",
       "    </tr>\n",
       "    <tr>\n",
       "      <th>Version Control</th>\n",
       "      <td>7</td>\n",
       "    </tr>\n",
       "    <tr>\n",
       "      <th>Data Cleaning</th>\n",
       "      <td>17</td>\n",
       "    </tr>\n",
       "    <tr>\n",
       "      <th>Web Scraping</th>\n",
       "      <td>12</td>\n",
       "    </tr>\n",
       "    <tr>\n",
       "      <th>Natural Language Processing</th>\n",
       "      <td>18</td>\n",
       "    </tr>\n",
       "    <tr>\n",
       "      <th>Parallel</th>\n",
       "      <td>1</td>\n",
       "    </tr>\n",
       "    <tr>\n",
       "      <th>Internet of Things</th>\n",
       "      <td>1</td>\n",
       "    </tr>\n",
       "    <tr>\n",
       "      <th>Cloud Computing</th>\n",
       "      <td>1</td>\n",
       "    </tr>\n",
       "    <tr>\n",
       "      <th>Databases</th>\n",
       "      <td>1</td>\n",
       "    </tr>\n",
       "  </tbody>\n",
       "</table>\n",
       "</div>"
      ],
      "text/plain": [
       "                             Votes\n",
       "Category                          \n",
       "Big Data                        25\n",
       "Data Visualization              29\n",
       "Machine Learning                23\n",
       "Statistics                      22\n",
       "Version Control                  7\n",
       "Data Cleaning                   17\n",
       "Web Scraping                    12\n",
       "Natural Language Processing     18\n",
       "Parallel                         1\n",
       "Internet of Things               1\n",
       "Cloud Computing                  1\n",
       "Databases                        1"
      ]
     },
     "execution_count": 67,
     "metadata": {},
     "output_type": "execute_result"
    }
   ],
   "source": [
    "# Show the whole table\n",
    "interests"
   ]
  },
  {
   "cell_type": "code",
   "execution_count": 68,
   "metadata": {
    "collapsed": false
   },
   "outputs": [
    {
     "data": {
      "text/plain": [
       "<matplotlib.axes._subplots.AxesSubplot at 0x118150eb8>"
      ]
     },
     "execution_count": 68,
     "metadata": {},
     "output_type": "execute_result"
    },
    {
     "data": {
      "image/png": "[encoded data removed]",
      "text/plain": [
       "<matplotlib.figure.Figure at 0x118150438>"
      ]
     },
     "metadata": {},
     "output_type": "display_data"
    }
   ],
   "source": [
    "# Quick plotting\n",
    "interests.plot(kind='bar')"
   ]
  },
  {
   "cell_type": "code",
   "execution_count": 71,
   "metadata": {
    "collapsed": false
   },
   "outputs": [
    {
     "data": {
      "text/plain": [
       "<matplotlib.axes._subplots.AxesSubplot at 0x1183170b8>"
      ]
     },
     "execution_count": 71,
     "metadata": {},
     "output_type": "execute_result"
    },
    {
     "data": {
      "image/png": "[encoded data removed]",
      "text/plain": [
       "<matplotlib.figure.Figure at 0x118323630>"
      ]
     },
     "metadata": {},
     "output_type": "display_data"
    }
   ],
   "source": [
    "# Sort index alphabetically\n",
    "interests.sort_index(inplace=True)\n",
    "# Use convenience wrapper to plot functions\n",
    "interests.plot.bar()"
   ]
  },
  {
   "cell_type": "code",
   "execution_count": 75,
   "metadata": {
    "collapsed": false
   },
   "outputs": [
    {
     "data": {
      "text/plain": [
       "<matplotlib.axes._subplots.AxesSubplot at 0x118115a90>"
      ]
     },
     "execution_count": 75,
     "metadata": {},
     "output_type": "execute_result"
    },
    {
     "data": {
      "image/png": "[encoded data removed]",
      "text/plain": [
       "<matplotlib.figure.Figure at 0x118270c50>"
      ]
     },
     "metadata": {},
     "output_type": "display_data"
    }
   ],
   "source": [
    "# Sort the DataFrame by Votes\n",
    "interests.sort_values(by=\"Votes\", inplace=True)\n",
    "# Horizontal bar plot\n",
    "interests.plot.barh()"
   ]
  },
  {
   "cell_type": "markdown",
   "metadata": {},
   "source": [
    "# Plotly"
   ]
  },
  {
   "cell_type": "code",
   "execution_count": 73,
   "metadata": {
    "collapsed": false
   },
   "outputs": [],
   "source": [
    "# plotly could be installed easily with `pip install plotly`\n",
    "# Use plotly in offline mode - no user account necessary\n",
    "from plotly.offline import init_notebook_mode, iplot\n",
    "import plotly.graph_objs as go\n",
    "init_notebook_mode()"
   ]
  },
  {
   "cell_type": "code",
   "execution_count": 79,
   "metadata": {
    "collapsed": false
   },
   "outputs": [
    {
     "data": {
      "text/html": [
       "<div id=\"6219d2c9-f84a-4314-b42e-bf46fa07ccde\" style=\"height: 525; width: 100%;\" class=\"plotly-graph-div\"></div><script type=\"text/javascript\">require([\"plotly\"], function(Plotly) { window.PLOTLYENV=window.PLOTLYENV || {};window.PLOTLYENV.BASE_URL=\"https://plot.ly\";Plotly.newPlot(\"6219d2c9-f84a-4314-b42e-bf46fa07ccde\", [{\"x\": [\"Cloud Computing\", \"Databases\", \"Internet of Things\", \"Parallel\", \"Version Control\", \"Web Scraping\", \"Data Cleaning\", \"Natural Language Processing\", \"Statistics\", \"Machine Learning\", \"Big Data\", \"Data Visualization\"], \"y\": [1, 1, 1, 1, 7, 12, 17, 18, 22, 23, 25, 29], \"type\": \"bar\"}], {}, {\"showLink\": true, \"linkText\": \"Export to plot.ly\"})});</script>"
      ],
      "text/plain": [
       "<IPython.core.display.HTML object>"
      ]
     },
     "metadata": {},
     "output_type": "display_data"
    }
   ],
   "source": [
    "# `data` is a list of datasets\n",
    "# `go.Bar` is one of the plotly 'geoms'\n",
    "# `x` and `y` are columns of the DataFrame\n",
    "data = [go.Bar(\n",
    "        x=interests.index,\n",
    "        y=interests.Votes)]\n",
    "\n",
    "# Render new figure with data\n",
    "iplot(go.Figure(data=data))"
   ]
  },
  {
   "cell_type": "markdown",
   "metadata": {},
   "source": [
    "More on plotly:\n",
    "* https://plot.ly/python/\n",
    "* https://plot.ly/python/reference/"
   ]
  },
  {
   "cell_type": "code",
   "execution_count": 82,
   "metadata": {
    "collapsed": false
   },
   "outputs": [
    {
     "data": {
      "text/plain": [
       "Category\n",
       "Cloud Computing                 3.333333\n",
       "Databases                       3.333333\n",
       "Internet of Things              3.333333\n",
       "Parallel                        3.333333\n",
       "Version Control                23.333333\n",
       "Web Scraping                   40.000000\n",
       "Data Cleaning                  56.666667\n",
       "Natural Language Processing    60.000000\n",
       "Statistics                     73.333333\n",
       "Machine Learning               76.666667\n",
       "Big Data                       83.333333\n",
       "Data Visualization             96.666667\n",
       "Name: Votes, dtype: float64"
      ]
     },
     "execution_count": 82,
     "metadata": {},
     "output_type": "execute_result"
    }
   ],
   "source": [
    "# Convert counts into percentages\n",
    "# Apply vecotrized operations on the columns directly\n",
    "percentages = interests.Votes/30*100\n",
    "percentages"
   ]
  },
  {
   "cell_type": "code",
   "execution_count": 83,
   "metadata": {
    "collapsed": false
   },
   "outputs": [
    {
     "data": {
      "text/plain": [
       "Category\n",
       "Cloud Computing                 3.33\n",
       "Databases                       3.33\n",
       "Internet of Things              3.33\n",
       "Parallel                        3.33\n",
       "Version Control                23.33\n",
       "Web Scraping                   40.00\n",
       "Data Cleaning                  56.67\n",
       "Natural Language Processing    60.00\n",
       "Statistics                     73.33\n",
       "Machine Learning               76.67\n",
       "Big Data                       83.33\n",
       "Data Visualization             96.67\n",
       "Name: Votes, dtype: float64"
      ]
     },
     "execution_count": 83,
     "metadata": {},
     "output_type": "execute_result"
    }
   ],
   "source": [
    "# Round all the numbers\n",
    "rounded_percentages = round(percentages, 2)\n",
    "rounded_percentages"
   ]
  },
  {
   "cell_type": "code",
   "execution_count": 84,
   "metadata": {
    "collapsed": false
   },
   "outputs": [
    {
     "data": {
      "text/plain": [
       "Category\n",
       "Cloud Computing                 3.33\n",
       "Databases                       3.33\n",
       "Internet of Things              3.33\n",
       "Parallel                        3.33\n",
       "Version Control                23.33\n",
       "Web Scraping                    40.0\n",
       "Data Cleaning                  56.67\n",
       "Natural Language Processing     60.0\n",
       "Statistics                     73.33\n",
       "Machine Learning               76.67\n",
       "Big Data                       83.33\n",
       "Data Visualization             96.67\n",
       "Name: Votes, dtype: object"
      ]
     },
     "execution_count": 84,
     "metadata": {},
     "output_type": "execute_result"
    }
   ],
   "source": [
    "# Convert to strings\n",
    "string_percentages = rounded_percentages.apply(str)\n",
    "string_percentages"
   ]
  },
  {
   "cell_type": "code",
   "execution_count": 86,
   "metadata": {
    "collapsed": false
   },
   "outputs": [
    {
     "data": {
      "text/plain": [
       "Category\n",
       "Cloud Computing                 3.33%\n",
       "Databases                       3.33%\n",
       "Internet of Things              3.33%\n",
       "Parallel                        3.33%\n",
       "Version Control                23.33%\n",
       "Web Scraping                    40.0%\n",
       "Data Cleaning                  56.67%\n",
       "Natural Language Processing     60.0%\n",
       "Statistics                     73.33%\n",
       "Machine Learning               76.67%\n",
       "Big Data                       83.33%\n",
       "Data Visualization             96.67%\n",
       "Name: Votes, dtype: object"
      ]
     },
     "execution_count": 86,
     "metadata": {},
     "output_type": "execute_result"
    }
   ],
   "source": [
    "# Add percent sign to each of them\n",
    "percentage_labels = string_percentages + \"%\"\n",
    "percentage_labels"
   ]
  },
  {
   "cell_type": "code",
   "execution_count": 87,
   "metadata": {
    "collapsed": false
   },
   "outputs": [
    {
     "data": {
      "text/plain": [
       "Category\n",
       "Cloud Computing                 3.33%\n",
       "Databases                       3.33%\n",
       "Internet of Things              3.33%\n",
       "Parallel                        3.33%\n",
       "Version Control                23.33%\n",
       "Web Scraping                    40.0%\n",
       "Data Cleaning                  56.67%\n",
       "Natural Language Processing     60.0%\n",
       "Statistics                     73.33%\n",
       "Machine Learning               76.67%\n",
       "Big Data                       83.33%\n",
       "Data Visualization             96.67%\n",
       "Name: Votes, dtype: object"
      ]
     },
     "execution_count": 87,
     "metadata": {},
     "output_type": "execute_result"
    }
   ],
   "source": [
    "# All of the above in one go\n",
    "percentage_labels = round((interests.Votes/30*100),2).apply(str) + \"%\"\n",
    "percentage_labels"
   ]
  },
  {
   "cell_type": "code",
   "execution_count": 89,
   "metadata": {
    "collapsed": true
   },
   "outputs": [],
   "source": [
    "# Create plotly `data` with `text` element - revealed on hover\n",
    "data = [go.Bar(\n",
    "        x=interests.index,\n",
    "        y=interests.Votes,\n",
    "        text=percentage_labels)]"
   ]
  },
  {
   "cell_type": "code",
   "execution_count": 90,
   "metadata": {
    "collapsed": false
   },
   "outputs": [
    {
     "data": {
      "text/html": [
       "<div id=\"477d418a-5cf8-4e68-b5cb-79a4cf4b0adf\" style=\"height: 600; width: 100%;\" class=\"plotly-graph-div\"></div><script type=\"text/javascript\">require([\"plotly\"], function(Plotly) { window.PLOTLYENV=window.PLOTLYENV || {};window.PLOTLYENV.BASE_URL=\"https://plot.ly\";Plotly.newPlot(\"477d418a-5cf8-4e68-b5cb-79a4cf4b0adf\", [{\"text\": [\"3.33%\", \"3.33%\", \"3.33%\", \"3.33%\", \"23.33%\", \"40.0%\", \"56.67%\", \"60.0%\", \"73.33%\", \"76.67%\", \"83.33%\", \"96.67%\"], \"y\": [1, 1, 1, 1, 7, 12, 17, 18, 22, 23, 25, 29], \"type\": \"bar\", \"x\": [\"Cloud Computing\", \"Databases\", \"Internet of Things\", \"Parallel\", \"Version Control\", \"Web Scraping\", \"Data Cleaning\", \"Natural Language Processing\", \"Statistics\", \"Machine Learning\", \"Big Data\", \"Data Visualization\"]}], {\"xaxis\": {\"tickangle\": -90}, \"margin\": {\"b\": 200}, \"height\": 600}, {\"showLink\": true, \"linkText\": \"Export to plot.ly\"})});</script>"
      ],
      "text/plain": [
       "<IPython.core.display.HTML object>"
      ]
     },
     "metadata": {},
     "output_type": "display_data"
    }
   ],
   "source": [
    "# Add elements to layout\n",
    "# each sub-category is a dict\n",
    "layout = go.Layout(height=600,\n",
    "                   xaxis=dict(\n",
    "                        tickangle=-90),\n",
    "                   margin=dict(\n",
    "                        b=200))\n",
    "\n",
    "# Same as above\n",
    "layout = go.Layout(height=600,\n",
    "                   xaxis={'tickangle':-90},\n",
    "                   margin={'b':200})\n",
    "\n",
    "iplot(go.Figure(data=data,layout=layout))"
   ]
  },
  {
   "cell_type": "code",
   "execution_count": null,
   "metadata": {
    "collapsed": true
   },
   "outputs": [],
   "source": []
  }
 ],
 "metadata": {
  "kernelspec": {
   "display_name": "Python 3",
   "language": "python",
   "name": "python3"
  },
  "language_info": {
   "codemirror_mode": {
    "name": "ipython",
    "version": 3
   },
   "file_extension": ".py",
   "mimetype": "text/x-python",
   "name": "python",
   "nbconvert_exporter": "python",
   "pygments_lexer": "ipython3",
   "version": "3.5.1"
  }
 },
 "nbformat": 4,
 "nbformat_minor": 0
}
